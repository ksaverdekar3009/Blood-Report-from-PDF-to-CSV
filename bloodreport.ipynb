{
 "cells": [
  {
   "cell_type": "raw",
   "id": "61af906d",
   "metadata": {},
   "source": [
    "# Importing Necessaries Libraries"
   ]
  },
  {
   "cell_type": "code",
   "execution_count": 10,
   "id": "3950f8c9",
   "metadata": {},
   "outputs": [],
   "source": [
    "import pdfplumber\n",
    "import re\n",
    "import pandas as pd\n",
    "from collections import namedtuple"
   ]
  },
  {
   "cell_type": "raw",
   "id": "d25eaf66",
   "metadata": {},
   "source": [
    "# Columns to be in csv File"
   ]
  },
  {
   "cell_type": "code",
   "execution_count": 14,
   "id": "95d5771e",
   "metadata": {},
   "outputs": [],
   "source": [
    "Line = namedtuple('Line','TEST RESULTS UNIT BIOLOGICAL_REF INTERVAL')"
   ]
  },
  {
   "cell_type": "raw",
   "id": "c596e5bf",
   "metadata": {},
   "source": [
    "# Expression for test Line"
   ]
  },
  {
   "cell_type": "code",
   "execution_count": 3,
   "id": "ee5f4dc5",
   "metadata": {},
   "outputs": [],
   "source": [
    "test_re = re.compile(r\"(\\w+(?:\\s*\\([\\w\\s]*\\))?)\\s*([HL]?)\\s*(\\d+\\.\\d+|\\d+)\\s*([^\\d\\s]+)\\s*(\\d+\\.\\d+)\\s*-\\s*(\\d+\\.\\d+)\")"
   ]
  },
  {
   "cell_type": "raw",
   "id": "91224edf",
   "metadata": {},
   "source": [
    "# Testing Line"
   ]
  },
  {
   "cell_type": "code",
   "execution_count": 9,
   "id": "4cfd95d9",
   "metadata": {},
   "outputs": [
    {
     "data": {
      "text/plain": [
       "'Haemoglobin'"
      ]
     },
     "execution_count": 9,
     "metadata": {},
     "output_type": "execute_result"
    }
   ],
   "source": [
    "test_re.search('Haemoglobin L 9.5 G% 13.00 - 17.00').group(1)"
   ]
  },
  {
   "cell_type": "raw",
   "id": "585db8e7",
   "metadata": {},
   "source": [
    "# Import file"
   ]
  },
  {
   "cell_type": "code",
   "execution_count": 5,
   "id": "6dd1c51c",
   "metadata": {},
   "outputs": [],
   "source": [
    "file = \"bloodreport.pdf\""
   ]
  },
  {
   "cell_type": "raw",
   "id": "bb24baa2",
   "metadata": {},
   "source": [
    "# Code for extracting and mapping"
   ]
  },
  {
   "cell_type": "code",
   "execution_count": 6,
   "id": "55862ad1",
   "metadata": {},
   "outputs": [
    {
     "name": "stdout",
     "output_type": "stream",
     "text": [
      "{'Test Name': 'Haemoglobin', 'Status': 'L', 'Value': '9.5', 'Unit': 'G%', 'Biological Reference Interval': '13.00 - 17.00'}\n",
      "{'Test Name': 'RBC (Electrical Impedance)', 'Status': 'L', 'Value': '3.55', 'Unit': 'millions/cumm', 'Biological Reference Interval': '4.50 - 5.50'}\n",
      "{'Test Name': 'PCV(Calc)', 'Status': 'L', 'Value': '29.50', 'Unit': '%', 'Biological Reference Interval': '40.00 - 50.00'}\n",
      "{'Test Name': 'MCV (RBC histogram)', 'Status': 'Normal', 'Value': '83.1', 'Unit': 'fL', 'Biological Reference Interval': '83.00 - 101.00'}\n",
      "{'Test Name': 'MCH (Calc)', 'Status': 'L', 'Value': '26.7', 'Unit': 'pg', 'Biological Reference Interval': '27.00 - 32.00'}\n",
      "{'Test Name': 'MCHC (Calc)', 'Status': 'Normal', 'Value': '32.1', 'Unit': 'gm/dL', 'Biological Reference Interval': '31.50 - 34.50'}\n",
      "{'Test Name': 'RDW (RBC histogram)', 'Status': 'H', 'Value': '20.50', 'Unit': '%', 'Biological Reference Interval': '11.00 - 16.00'}\n",
      "{'Test Name': 'Count', 'Status': 'Normal', 'Value': '5510', 'Unit': '/µL', 'Biological Reference Interval': '4000.00 - 10000.00'}\n",
      "{'Test Name': 'Neutrophil', 'Status': 'Normal', 'Value': '65.0', 'Unit': '%', 'Biological Reference Interval': '40.00 - 70.00'}\n",
      "{'Test Name': 'Lymphocyte', 'Status': 'Normal', 'Value': '24.0', 'Unit': '%', 'Biological Reference Interval': '20.00 - 40.00'}\n",
      "{'Test Name': 'Eosinophil', 'Status': 'Normal', 'Value': '3.0', 'Unit': '%', 'Biological Reference Interval': '1.00 - 6.00'}\n",
      "{'Test Name': 'Monocytes', 'Status': 'Normal', 'Value': '8.0', 'Unit': '%', 'Biological Reference Interval': '2.00 - 10.00'}\n",
      "{'Test Name': 'Basophil', 'Status': 'Normal', 'Value': '0.0', 'Unit': '%', 'Biological Reference Interval': '0.00 - 2.00'}\n",
      "{'Test Name': 'Count', 'Status': 'Normal', 'Value': '301000', 'Unit': '/µL', 'Biological Reference Interval': '150000.00 - 410000.00'}\n",
      "{'Test Name': 'Creatinine', 'Status': 'Normal', 'Value': '0.70', 'Unit': 'mg/dL', 'Biological Reference Interval': '0.50 - 1.50'}\n"
     ]
    }
   ],
   "source": [
    "lines = []\n",
    "\n",
    "with pdfplumber.open(file) as pdf:\n",
    "    pages = pdf.pages[1:]\n",
    "    for page in pages:\n",
    "        text = page.extract_text()  \n",
    "        for line in text.split('\\n'):\n",
    "            if isinstance(line, str):\n",
    "                test = test_re.search(line)\n",
    "                if test:\n",
    "                    lines.append({\n",
    "                        \"Test Name\": test.group(1),\n",
    "                        \"Status\": test.group(2) if test.group(2) else \"Normal\",\n",
    "                        \"Value\": test.group(3),\n",
    "                        \"Unit\": test.group(4).strip(),\n",
    "                        \"Biological Reference Interval\": f\"{test.group(5)} - {test.group(6)}\"\n",
    "                    })\n",
    "                    print(lines[-1])\n",
    "            else:\n",
    "                print(\"Non-string line encountered, skipping:\", line)"
   ]
  },
  {
   "cell_type": "raw",
   "id": "1bd319ef",
   "metadata": {},
   "source": [
    "# Creating Data Frame "
   ]
  },
  {
   "cell_type": "code",
   "execution_count": 7,
   "id": "582b2e56",
   "metadata": {},
   "outputs": [
    {
     "data": {
      "text/html": [
       "<div>\n",
       "<style scoped>\n",
       "    .dataframe tbody tr th:only-of-type {\n",
       "        vertical-align: middle;\n",
       "    }\n",
       "\n",
       "    .dataframe tbody tr th {\n",
       "        vertical-align: top;\n",
       "    }\n",
       "\n",
       "    .dataframe thead th {\n",
       "        text-align: right;\n",
       "    }\n",
       "</style>\n",
       "<table border=\"1\" class=\"dataframe\">\n",
       "  <thead>\n",
       "    <tr style=\"text-align: right;\">\n",
       "      <th></th>\n",
       "      <th>Test Name</th>\n",
       "      <th>Status</th>\n",
       "      <th>Value</th>\n",
       "      <th>Unit</th>\n",
       "      <th>Biological Reference Interval</th>\n",
       "    </tr>\n",
       "  </thead>\n",
       "  <tbody>\n",
       "    <tr>\n",
       "      <th>0</th>\n",
       "      <td>Haemoglobin</td>\n",
       "      <td>L</td>\n",
       "      <td>9.5</td>\n",
       "      <td>G%</td>\n",
       "      <td>13.00 - 17.00</td>\n",
       "    </tr>\n",
       "    <tr>\n",
       "      <th>1</th>\n",
       "      <td>RBC (Electrical Impedance)</td>\n",
       "      <td>L</td>\n",
       "      <td>3.55</td>\n",
       "      <td>millions/cumm</td>\n",
       "      <td>4.50 - 5.50</td>\n",
       "    </tr>\n",
       "    <tr>\n",
       "      <th>2</th>\n",
       "      <td>PCV(Calc)</td>\n",
       "      <td>L</td>\n",
       "      <td>29.50</td>\n",
       "      <td>%</td>\n",
       "      <td>40.00 - 50.00</td>\n",
       "    </tr>\n",
       "    <tr>\n",
       "      <th>3</th>\n",
       "      <td>MCV (RBC histogram)</td>\n",
       "      <td>Normal</td>\n",
       "      <td>83.1</td>\n",
       "      <td>fL</td>\n",
       "      <td>83.00 - 101.00</td>\n",
       "    </tr>\n",
       "    <tr>\n",
       "      <th>4</th>\n",
       "      <td>MCH (Calc)</td>\n",
       "      <td>L</td>\n",
       "      <td>26.7</td>\n",
       "      <td>pg</td>\n",
       "      <td>27.00 - 32.00</td>\n",
       "    </tr>\n",
       "    <tr>\n",
       "      <th>5</th>\n",
       "      <td>MCHC (Calc)</td>\n",
       "      <td>Normal</td>\n",
       "      <td>32.1</td>\n",
       "      <td>gm/dL</td>\n",
       "      <td>31.50 - 34.50</td>\n",
       "    </tr>\n",
       "    <tr>\n",
       "      <th>6</th>\n",
       "      <td>RDW (RBC histogram)</td>\n",
       "      <td>H</td>\n",
       "      <td>20.50</td>\n",
       "      <td>%</td>\n",
       "      <td>11.00 - 16.00</td>\n",
       "    </tr>\n",
       "    <tr>\n",
       "      <th>7</th>\n",
       "      <td>Count</td>\n",
       "      <td>Normal</td>\n",
       "      <td>5510</td>\n",
       "      <td>/µL</td>\n",
       "      <td>4000.00 - 10000.00</td>\n",
       "    </tr>\n",
       "    <tr>\n",
       "      <th>8</th>\n",
       "      <td>Neutrophil</td>\n",
       "      <td>Normal</td>\n",
       "      <td>65.0</td>\n",
       "      <td>%</td>\n",
       "      <td>40.00 - 70.00</td>\n",
       "    </tr>\n",
       "    <tr>\n",
       "      <th>9</th>\n",
       "      <td>Lymphocyte</td>\n",
       "      <td>Normal</td>\n",
       "      <td>24.0</td>\n",
       "      <td>%</td>\n",
       "      <td>20.00 - 40.00</td>\n",
       "    </tr>\n",
       "    <tr>\n",
       "      <th>10</th>\n",
       "      <td>Eosinophil</td>\n",
       "      <td>Normal</td>\n",
       "      <td>3.0</td>\n",
       "      <td>%</td>\n",
       "      <td>1.00 - 6.00</td>\n",
       "    </tr>\n",
       "    <tr>\n",
       "      <th>11</th>\n",
       "      <td>Monocytes</td>\n",
       "      <td>Normal</td>\n",
       "      <td>8.0</td>\n",
       "      <td>%</td>\n",
       "      <td>2.00 - 10.00</td>\n",
       "    </tr>\n",
       "    <tr>\n",
       "      <th>12</th>\n",
       "      <td>Basophil</td>\n",
       "      <td>Normal</td>\n",
       "      <td>0.0</td>\n",
       "      <td>%</td>\n",
       "      <td>0.00 - 2.00</td>\n",
       "    </tr>\n",
       "    <tr>\n",
       "      <th>13</th>\n",
       "      <td>Count</td>\n",
       "      <td>Normal</td>\n",
       "      <td>301000</td>\n",
       "      <td>/µL</td>\n",
       "      <td>150000.00 - 410000.00</td>\n",
       "    </tr>\n",
       "    <tr>\n",
       "      <th>14</th>\n",
       "      <td>Creatinine</td>\n",
       "      <td>Normal</td>\n",
       "      <td>0.70</td>\n",
       "      <td>mg/dL</td>\n",
       "      <td>0.50 - 1.50</td>\n",
       "    </tr>\n",
       "  </tbody>\n",
       "</table>\n",
       "</div>"
      ],
      "text/plain": [
       "                     Test Name  Status   Value           Unit  \\\n",
       "0                  Haemoglobin       L     9.5             G%   \n",
       "1   RBC (Electrical Impedance)       L    3.55  millions/cumm   \n",
       "2                    PCV(Calc)       L   29.50              %   \n",
       "3          MCV (RBC histogram)  Normal    83.1             fL   \n",
       "4                   MCH (Calc)       L    26.7             pg   \n",
       "5                  MCHC (Calc)  Normal    32.1          gm/dL   \n",
       "6          RDW (RBC histogram)       H   20.50              %   \n",
       "7                        Count  Normal    5510            /µL   \n",
       "8                   Neutrophil  Normal    65.0              %   \n",
       "9                   Lymphocyte  Normal    24.0              %   \n",
       "10                  Eosinophil  Normal     3.0              %   \n",
       "11                   Monocytes  Normal     8.0              %   \n",
       "12                    Basophil  Normal     0.0              %   \n",
       "13                       Count  Normal  301000            /µL   \n",
       "14                  Creatinine  Normal    0.70          mg/dL   \n",
       "\n",
       "   Biological Reference Interval  \n",
       "0                  13.00 - 17.00  \n",
       "1                    4.50 - 5.50  \n",
       "2                  40.00 - 50.00  \n",
       "3                 83.00 - 101.00  \n",
       "4                  27.00 - 32.00  \n",
       "5                  31.50 - 34.50  \n",
       "6                  11.00 - 16.00  \n",
       "7             4000.00 - 10000.00  \n",
       "8                  40.00 - 70.00  \n",
       "9                  20.00 - 40.00  \n",
       "10                   1.00 - 6.00  \n",
       "11                  2.00 - 10.00  \n",
       "12                   0.00 - 2.00  \n",
       "13         150000.00 - 410000.00  \n",
       "14                   0.50 - 1.50  "
      ]
     },
     "execution_count": 7,
     "metadata": {},
     "output_type": "execute_result"
    }
   ],
   "source": [
    "df =pd.DataFrame(lines)\n",
    "df"
   ]
  },
  {
   "cell_type": "raw",
   "id": "22343570",
   "metadata": {},
   "source": [
    "# Creating csv File"
   ]
  },
  {
   "cell_type": "code",
   "execution_count": 8,
   "id": "bf83970e",
   "metadata": {},
   "outputs": [],
   "source": [
    "df.to_csv(\"bloodreport.csv\",index=False)"
   ]
  }
 ],
 "metadata": {
  "kernelspec": {
   "display_name": "Python 3 (ipykernel)",
   "language": "python",
   "name": "python3"
  },
  "language_info": {
   "codemirror_mode": {
    "name": "ipython",
    "version": 3
   },
   "file_extension": ".py",
   "mimetype": "text/x-python",
   "name": "python",
   "nbconvert_exporter": "python",
   "pygments_lexer": "ipython3",
   "version": "3.9.13"
  }
 },
 "nbformat": 4,
 "nbformat_minor": 5
}
